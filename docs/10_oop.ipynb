{
 "cells": [
  {
   "cell_type": "markdown",
   "metadata": {
    "id": "3emUMjCCrXGB"
   },
   "source": [
    "# Введение в ООП\n",
    "\n",
    " "
   ]
  },
  {
   "cell_type": "markdown",
   "metadata": {
    "id": "Esjbt71WrtIn"
   },
   "source": [
    "## Теоретическая часть\n",
    "\n",
    "**Объектно-ориентированные языки** - это языки, в которых у программиста есть возможность определять собственные классы, инстанциировать их (создавать экземпляры созданных классов) и работать с ними. \n",
    "\n",
    "Фактически, в Python любые (в том числе встроенные) типы данных определяются соответствующими классами, и все с чем мы работаем - или классы, или их экземпляры. Функция - экземпляр класса `function`, целое число - экземпляр класса `int`, и даже класс - экземпляр класса `type`. \n",
    "\n",
    "Объектно-ориентированный подход в программировании базируется на нескольких принципах ООП(объектно-ориентированного программирования):\n",
    "- **Абстракция** - принцип, согласно которому мы создаем модели, соотносящиеся с объектами нашего домена, которые достаточно точно представляют эти объекты в нашей программе. \n",
    "- **Инкапсуляция** - принцип, согласно которому мы объединяем в рамках нашей модели данные и методы работы с ними. В некоторых языках программирования инкапсуляция также подразумевает сокрытие внутренней реализации наших моделей от внешнего мира, однако в Python этого нет. \n",
    "- **Полиморфизм** - принцип, который говорит о способности функции обрабатывать данные различных типов.\n",
    "- **Наследование** - принцип, согласно которому наш класс может наследовать(переиспользовать) данные и функциональность некоторого существующего типа. \n",
    "\n",
    "Примечания: \n",
    "- Классы и их экземпляры порождают пространство имен. Фактически, в Python 4 объекта порождают пространство имен: классы, экземпляры, функции, модули."
   ]
  },
  {
   "cell_type": "markdown",
   "metadata": {
    "id": "Yye3Hbw7qA-y"
   },
   "source": [
    "#### Методы в классах\n",
    "\n",
    "Внутри класса есть несколько различных типов методов. \n",
    "\n",
    "**Обычные методы**\n",
    "```python\n",
    "class A():\n",
    "  def m(self):\n",
    "    pass\n",
    "```\n",
    "Применяются повсеместно. \n",
    "\n",
    "**Статические методы**\n",
    "```python\n",
    "class A():\n",
    "  @staticmethod\n",
    "  def m():\n",
    "    pass\n",
    "```\n",
    "\n",
    "Статические методы в Python - это обычные функции, помещенные в класс, в случае, если нам нет необходимости инстанциировать класс для ее использования, и(или) непосредственно экземпляр класса не используется. Например, мы можем поместить какие-то вспомогательные утилиты в специальный класс, чтобы держать их в пространстве имен этого класса. \n",
    "\n",
    "Статические метод не могут менять состояние класса и его экземпляра.\n",
    "\n",
    "**Методы класса**\n",
    "```python\n",
    "class A():\n",
    "  @classmethod\n",
    "  def m(cls):\n",
    "    pass\n",
    "```\n",
    "\n",
    "Методы класса принимают в качестве первого параметра не экземпляр, а сам класс. \n",
    "\n",
    "Одна из самых распространенных областей использования методов класса - работа с переменными класса. \n",
    "\n",
    "**Абстрактные методы**\n",
    "\n",
    "```python\n",
    "from abc import ABC\n",
    "from abc import abstractmethod\n",
    "\n",
    "class MyABC(ABC):\n",
    "    @abstractmethod\n",
    "    def func(self):\n",
    "      pass\n",
    "```\n",
    "\n",
    "Абстрактным называется класс, в котором есть как минимум один абстрактный метод (или свойство). Наследование от класса ABC недостаточно чтобы сделать класс абстрактным. \n",
    "\n",
    "Абстрактный метод - метод, который в обязательном порядке должен быть переопределен в дочернем классе. При этом, мы вполне можем переиспользовать реализацию метода в абстрактном классе, например, с использованием super.\n",
    "\n",
    "Создать экземпляр абстрактного класса нельзя. \n",
    "\n",
    "Абстрактные классы могут использоваться для прототипирования, а также создания жесткой структуры для объектов-наследников, гарантируя, что ни одна необходимая реализация не будет упущена.\n",
    "\n"
   ]
  },
  {
   "cell_type": "markdown",
   "metadata": {
    "id": "6fJr41o71eds"
   },
   "source": [
    "#### Наследование\n",
    "\n",
    "Классы, от которых наследуется данный класс, называются родительскими, или **суперклассами** (superclass). \n",
    "\n",
    "Классы, унаследованные от данного называются **подклассами**(subclass) или **дочерними**. \n",
    "\n",
    "В Python реализована концепция множественного наследования. Это значит, что любой класс может быть унаследован от нескольких, и соответственно может пользоваться данными и методами всех этих классов. \n",
    "\n",
    "Такой подход ведет к определенным проблемам, самая известная(и важная) из которых называется проблема ромбовидного наследования (diamond problem). Подробнее об этой поблеме можно прочитать здесь: [Wikipedia. Ромбовидное наследование.](https://ru.wikipedia.org/wiki/%D0%A0%D0%BE%D0%BC%D0%B1%D0%BE%D0%B2%D0%B8%D0%B4%D0%BD%D0%BE%D0%B5_%D0%BD%D0%B0%D1%81%D0%BB%D0%B5%D0%B4%D0%BE%D0%B2%D0%B0%D0%BD%D0%B8%D0%B5).\n",
    "\n",
    "Подход к решению этой проблемы различается в Python2 и Python 3.\n",
    "\n",
    "Классы в Python делятся на 2 типа: old-style classes и new-style classes.\n",
    "\n",
    "**New-style classes** - классы, которые наследуются от специального встроенного класса object. Любой класс, унаследованный от new-style класса автоматически становится new-style. \n",
    "\n",
    "**Old-style classes** - соответственно классы, которые object в списке своих родителей не содержат. \n",
    "\n",
    "В Python2 классы могут быть как old- так и new-style, в зависимости от того, указали ли мы явно object  в списке родителей. \n",
    "\n",
    "В Python3 все классы являются new-style классами, даже если явно object не указывается (он будет добавлен интерпретатором). \n",
    "\n",
    "Удобно представлять структуру классов визуально: в самом начале находится наш класс, его родители - на уровень выше и соединены с ним линией. Родители родителей - еще на уровень выше и т.д. Классы родители расположены в том же порядке как при задании класса. \n",
    "\n",
    "### Old-style classes\n",
    "Для old-style классов при поиске атрибутов в класса-родителях используется поиск в глубину.\n",
    "\n",
    "Мнемоническое правило для определения порядка обход класса: \n",
    "\n",
    "- У нас есть указатель, который показывает на класс в структуре классов, на котором мы находимся в текущий момент. Решение какой класс брать следующем принимается исходя из точки где мы находимся. \n",
    "- Если у нас есть несколько кандидатур-родителей, мы выбираем левый. \n",
    "- Уже просмотренные классы исключаются из опций при принятии решения. \n",
    "- В случае если кандидатур нет мы спускаемся на уровень ниже. \n",
    "\n",
    "### New-style classes\n",
    "Для new-style классов описанный выше алгоритм не подходил. Проблема заключается в том, что object может обработать абсолютно любое обращение (например выдать ошибку, что такого атрибута нет), и когда мы до него дойдем, все остальные непросмотренные классы уже никогда не будут просмотрены. \n",
    "\n",
    "Для классов нового стиля был использован другой алгоритм, который называется [C3-линеаризация](https://ru.wikipedia.org/wiki/C3-%D0%BB%D0%B8%D0%BD%D0%B5%D0%B0%D1%80%D0%B8%D0%B7%D0%B0%D1%86%D0%B8%D1%8F).\n",
    "\n",
    "**!!!** (Декабрь, 2020). Обратите внимание на пример с предложенной статьи. Там граф зависимостей не сответствует нашим правилам визуальног представления и может сбить с толку при расчете порядка обхода (там классы-родители слева направо расположены не в том порядке в котором использованы при задании подклассов). \n",
    "\n",
    "Мнемоническое правило для определения порядка обход класса если мы не хотим выписывать все цепочки и мерджи: \n",
    "\n",
    "- У нас есть указатель, который показывает на класс в структуре классов, на котором мы находимся в текущий момент. Решение какой класс брать следующем принимается исходя из точки где мы находимся. \n",
    "- Если у нас есть несколько кандидатур-родителей, мы выбираем левый. \n",
    "- Уже просмотренные классы исключаются из опций при принятии решения. \n",
    "- В случае если кандидатур нет мы спускаемся на уровень ниже. \n",
    "- **!!!** (Отличие). Класс не может быть просмотрен, если не просмотрены все его наследними. \n",
    "\n",
    "\n",
    "\n"
   ]
  },
  {
   "cell_type": "markdown",
   "metadata": {
    "id": "llX8bKt-9r9x"
   },
   "source": [
    "#### Полиморфизм\n",
    "\n",
    "Полиморфизм - способность функции обрабатывать данные разных типов. \n",
    "\n",
    "Существует два типа полиморфизма: \n",
    "- Параметрический полиморфизм - случай, когда наши методы позволяют обрабатывать значения разных типов однообразно. Это вносит существенную гибкость в язык программирования. В Python реализован параметрический полиморфизм. \n",
    "- Ad-hoc полиморфизм - осуществляетс посредством перегрузки методов, а в некоторых языках - посредством приведения типов. В Python перегрузить метод - достаточно хлопотное занятие, ввиду того что создание функции с таким же именем и другим набором параметров просто создаст новую функцию, а старая исчезнет. Такого полиморфизма в Python нет.\n",
    "\n",
    "Классический пример полиморфизма: \n",
    "```python\n",
    "print(1 + 1.0)  # 2.0\n",
    "print(1 + 1)  # 2\n",
    "```\n",
    "В обоих случаях один и тот же объект `1` типа `int` вызывает один и тот же метод `__add__`, которому передаются параметры разных типов: в первом случае `float`, во втором `int`, и этот метод возвращает разные значения в зависимости от типа. \n",
    "\n",
    "Не стоит путать корректный пример выше с другим:\n",
    "```python\n",
    "print([1] + [1])  # [1, 1]\n",
    "print('1' + '1')  # '11'\n",
    "```\n",
    "В данном случае у **разных** объектов **разных** типов вызываются **разные(!!)** методы, которые просто имеют одинаковое имя, им передаются разные параметры и мы получаем разный результат. Это полиморфизмом не является.\n"
   ]
  },
  {
   "cell_type": "markdown",
   "metadata": {
    "id": "ymcv8-OMbJHR"
   },
   "source": [
    "#### Сокрытие переменных\n",
    "\n",
    "Классически в языках программирования существуют 3 уровня доступа к их внутренним объектам: \n",
    "- public - элементы, доступные как изнутри так и снаружи классов.\n",
    "- protected - элементы, доступные только внутри класса и его наследников\n",
    "- private - элементы, доступные только внутри класса.\n",
    "\n",
    "В Python таких механизмов нет, однако есть синтаксис, позволяющий эмулировать такое поведение. \n",
    "\n",
    "#### Protected атрибуты\n",
    "Для того чтобы сделать атрибут protected, необходимо перед его именем поставить `_`. В таком случае, на уровне джентльменского соглашения считается, что переменная предназначена для использования внутри класса и его наследников, и не стоит трогать эти атрибуты и методы извне класса. Однако, в некоторых ситуациях, например при написании unit тестов, это вполне допустимо. \n",
    "\n",
    "#### Private атрибуты\n",
    "Чтобы сделать атрибут доступным только внутри класса, необходимо перед его именем поставить `__`. В таком случае будет применен специальный механизм, который называется name mangling - искажение имен. При этом, внутри класса можно использовать атрибут или метод по его имени, а снаружи, а также у наследников, для получения доступа к этому атрибуту придется писать уже измененное имя, которое будет иметь вид `_ClassName__var_name`.\n"
   ]
  },
  {
   "cell_type": "markdown",
   "metadata": {
    "id": "lMVQ4AfOrvP5"
   },
   "source": [
    "## Code Snippets"
   ]
  },
  {
   "cell_type": "markdown",
   "metadata": {
    "id": "tL4-VgPf4aAF"
   },
   "source": [
    "### Работа с классами"
   ]
  },
  {
   "cell_type": "code",
   "execution_count": null,
   "metadata": {
    "colab": {
     "base_uri": "https://localhost:8080/"
    },
    "executionInfo": {
     "elapsed": 1984,
     "status": "ok",
     "timestamp": 1609953811347,
     "user": {
      "displayName": "Максим Белов",
      "photoUrl": "",
      "userId": "02014007940964761986"
     },
     "user_tz": -180
    },
    "id": "TZdT8P8193BW",
    "outputId": "faafb641-0712-443f-bd43-6c1a487a1be8"
   },
   "outputs": [
    {
     "name": "stdout",
     "output_type": "stream",
     "text": [
      "<class '__main__.MyClass'> <__main__.MyClass object at 0x7f46ec997b38>\n",
      "<class 'type'> <class '__main__.MyClass'>\n"
     ]
    }
   ],
   "source": [
    "# Создание простейшего класса.\n",
    "class MyClass:\n",
    "  pass\n",
    "\n",
    "inst = MyClass()  # создание экземпляра класса\n",
    "\n",
    "print(type(inst), inst)\n",
    "print(type(MyClass), MyClass)"
   ]
  },
  {
   "cell_type": "code",
   "execution_count": null,
   "metadata": {
    "colab": {
     "base_uri": "https://localhost:8080/"
    },
    "executionInfo": {
     "elapsed": 1290,
     "status": "ok",
     "timestamp": 1609954073093,
     "user": {
      "displayName": "Максим Белов",
      "photoUrl": "",
      "userId": "02014007940964761986"
     },
     "user_tz": -180
    },
    "id": "5IQVXh3HcC-X",
    "outputId": "e86548a5-6534-4924-8aac-4fb1232b1052"
   },
   "outputs": [
    {
     "name": "stdout",
     "output_type": "stream",
     "text": [
      "[1, 2, 3] <class 'list'>\n"
     ]
    }
   ],
   "source": [
    "# В Python все объекты являются экземплярами какого-то класса.\n",
    "a = list((1, 2, 3))\n",
    "print(a, type(a))"
   ]
  },
  {
   "cell_type": "code",
   "execution_count": null,
   "metadata": {
    "colab": {
     "base_uri": "https://localhost:8080/"
    },
    "executionInfo": {
     "elapsed": 1009,
     "status": "ok",
     "timestamp": 1609954722821,
     "user": {
      "displayName": "Максим Белов",
      "photoUrl": "",
      "userId": "02014007940964761986"
     },
     "user_tz": -180
    },
    "id": "8Q_Z-3L3XyJI",
    "outputId": "b6c107f8-4122-4c7f-d5e2-4e1e8e07e8af"
   },
   "outputs": [
    {
     "name": "stdout",
     "output_type": "stream",
     "text": [
      "init red\n",
      "init black\n",
      "red black\n"
     ]
    }
   ],
   "source": [
    "# Конструктор класса - метод, который вызывается после создания для каждого\n",
    "# экземпляра класса.\n",
    "class MyClass:\n",
    "  def __init__(self, color):\n",
    "    print(\"init\", color)\n",
    "    self.color = color\n",
    "\n",
    "inst1 = MyClass('red')\n",
    "inst2 = MyClass('black')\n",
    "\n",
    "print(inst1.color, inst2.color)\n"
   ]
  },
  {
   "cell_type": "code",
   "execution_count": null,
   "metadata": {
    "colab": {
     "base_uri": "https://localhost:8080/"
    },
    "executionInfo": {
     "elapsed": 1110,
     "status": "ok",
     "timestamp": 1609954876496,
     "user": {
      "displayName": "Максим Белов",
      "photoUrl": "",
      "userId": "02014007940964761986"
     },
     "user_tz": -180
    },
    "id": "r-C9FVgSGmz2",
    "outputId": "2b0db550-fae0-4a86-9b68-fd8270845735"
   },
   "outputs": [
    {
     "name": "stdout",
     "output_type": "stream",
     "text": [
      "init\n",
      "5\n"
     ]
    }
   ],
   "source": [
    "# Первый аргумент может иметь любое имя, однако традиционное имя для него - \n",
    "# self. Не стоит уходить от этого именования без очень веских причин.\n",
    "class MyClass:\n",
    "  def __init__(pokemon):\n",
    "    print(\"init\")\n",
    "    pokemon.a = 5\n",
    "\n",
    "inst = MyClass()\n",
    "print(inst.a)\n",
    "\n"
   ]
  },
  {
   "cell_type": "code",
   "execution_count": null,
   "metadata": {
    "id": "OKUt12KdC2np"
   },
   "outputs": [],
   "source": [
    "# Методы класса, в том числе конструктор, как и обычные функции могут принимать\n",
    "# параметры.\n",
    "class MyClass:\n",
    "  def __init__(self, color):\n",
    "    print(\"init\")\n",
    "    self.color = color\n",
    "\n",
    "inst1 = MyClass('red')\n",
    "inst2 = MyClass('black')\n",
    "\n",
    "print(inst1.color, inst2.color)"
   ]
  },
  {
   "cell_type": "code",
   "execution_count": null,
   "metadata": {
    "colab": {
     "base_uri": "https://localhost:8080/"
    },
    "executionInfo": {
     "elapsed": 921,
     "status": "ok",
     "timestamp": 1609955219111,
     "user": {
      "displayName": "Максим Белов",
      "photoUrl": "",
      "userId": "02014007940964761986"
     },
     "user_tz": -180
    },
    "id": "jALH5v7kbkL4",
    "outputId": "509ae249-b738-4e8d-d5e8-83da71e7128b"
   },
   "outputs": [
    {
     "name": "stdout",
     "output_type": "stream",
     "text": [
      "6 0 ()\n"
     ]
    }
   ],
   "source": [
    "# Все тоже самое что и в функциях. Любые типы параметров. Методы - это обычные\n",
    "# функции, просто они определяются внутри класса и первым аргументом получают\n",
    "# вызвавший их экземпляр. \n",
    "class MyClass:\n",
    "  def __init__(self, var, c=0, *args, e=1, **kwargs):\n",
    "    self.var = var\n",
    "    self.a = 1\n",
    "    self.c = c\n",
    "    self.args = args\n",
    "\n",
    "inst = MyClass(6)\n",
    "print(inst.var, inst.c, inst.args)"
   ]
  },
  {
   "cell_type": "code",
   "execution_count": null,
   "metadata": {
    "colab": {
     "base_uri": "https://localhost:8080/",
     "height": 216
    },
    "executionInfo": {
     "elapsed": 896,
     "status": "error",
     "timestamp": 1609955528625,
     "user": {
      "displayName": "Максим Белов",
      "photoUrl": "",
      "userId": "02014007940964761986"
     },
     "user_tz": -180
    },
    "id": "Sq7xHocgMRys",
    "outputId": "a49dac85-d757-4dd6-cd8c-61bd4eb1cfeb"
   },
   "outputs": [
    {
     "name": "stdout",
     "output_type": "stream",
     "text": [
      "[123]\n"
     ]
    },
    {
     "ename": "AttributeError",
     "evalue": "ignored",
     "output_type": "error",
     "traceback": [
      "\u001b[0;31m---------------------------------------------------------------------------\u001b[0m",
      "\u001b[0;31mAttributeError\u001b[0m                            Traceback (most recent call last)",
      "\u001b[0;32m<ipython-input-12-acefce63bc45>\u001b[0m in \u001b[0;36m<module>\u001b[0;34m()\u001b[0m\n\u001b[1;32m     12\u001b[0m \u001b[0;34m\u001b[0m\u001b[0m\n\u001b[1;32m     13\u001b[0m \u001b[0mprint\u001b[0m\u001b[0;34m(\u001b[0m\u001b[0minst1\u001b[0m\u001b[0;34m.\u001b[0m\u001b[0mb\u001b[0m\u001b[0;34m)\u001b[0m\u001b[0;34m\u001b[0m\u001b[0;34m\u001b[0m\u001b[0m\n\u001b[0;32m---> 14\u001b[0;31m \u001b[0mprint\u001b[0m\u001b[0;34m(\u001b[0m\u001b[0minst2\u001b[0m\u001b[0;34m.\u001b[0m\u001b[0mb\u001b[0m\u001b[0;34m)\u001b[0m  \u001b[0;31m# а здесь этого атрибута не будет\u001b[0m\u001b[0;34m\u001b[0m\u001b[0;34m\u001b[0m\u001b[0m\n\u001b[0m",
      "\u001b[0;31mAttributeError\u001b[0m: 'My' object has no attribute 'b'"
     ]
    }
   ],
   "source": [
    "# Атрибуты экземпляра, как и обычные переменные, создаются при присвоении. \n",
    "# При этом не обязательно, чтобы это происходила внутри конструктора или \n",
    "# какого-либо метода. Это можно сделать и извне, хоть это и является плохой\n",
    "# практикой. \n",
    "class My:\n",
    "  pass\n",
    "\n",
    "inst1 = My()\n",
    "inst2 = My()\n",
    "\n",
    "inst1.b = [123]\n",
    "\n",
    "print(inst1.b)\n",
    "print(inst2.b)  # а здесь этого атрибута не будет"
   ]
  },
  {
   "cell_type": "code",
   "execution_count": null,
   "metadata": {
    "colab": {
     "base_uri": "https://localhost:8080/"
    },
    "executionInfo": {
     "elapsed": 848,
     "status": "ok",
     "timestamp": 1609955705810,
     "user": {
      "displayName": "Максим Белов",
      "photoUrl": "",
      "userId": "02014007940964761986"
     },
     "user_tz": -180
    },
    "id": "qgiL7P4gZVoh",
    "outputId": "aebbf2be-08d5-453c-b3a5-9d1f87111169"
   },
   "outputs": [
    {
     "name": "stdout",
     "output_type": "stream",
     "text": [
      "[1]\n",
      "\n",
      "[1, 4]\n",
      "[1]\n",
      "\n",
      "['__class__', '__delattr__', '__dict__', '__dir__', '__doc__', '__eq__', '__format__', '__ge__', '__getattribute__', '__gt__', '__hash__', '__init__', '__init_subclass__', '__le__', '__lt__', '__module__', '__ne__', '__new__', '__reduce__', '__reduce_ex__', '__repr__', '__setattr__', '__sizeof__', '__str__', '__subclasshook__', '__weakref__', 'a', 'b']\n",
      "['__class__', '__delattr__', '__dict__', '__dir__', '__doc__', '__eq__', '__format__', '__ge__', '__getattribute__', '__gt__', '__hash__', '__init__', '__init_subclass__', '__le__', '__lt__', '__module__', '__ne__', '__new__', '__reduce__', '__reduce_ex__', '__repr__', '__setattr__', '__sizeof__', '__str__', '__subclasshook__', '__weakref__', 'a']\n",
      "['__class__', '__delattr__', '__dict__', '__dir__', '__doc__', '__eq__', '__format__', '__ge__', '__getattribute__', '__gt__', '__hash__', '__init__', '__init_subclass__', '__le__', '__lt__', '__module__', '__ne__', '__new__', '__reduce__', '__reduce_ex__', '__repr__', '__setattr__', '__sizeof__', '__str__', '__subclasshook__', '__weakref__']\n"
     ]
    }
   ],
   "source": [
    "# Экземпляры класса после создания являются независиммыми друг от друга\n",
    "# пространствами имен. Кроме того, атрибуты инстансов для класса никак не видны.\n",
    "class MyClass:\n",
    "  def __init__(self):\n",
    "    self.a = [1]\n",
    "\n",
    "inst = MyClass()\n",
    "new_inst = MyClass()\n",
    "\n",
    "print(inst.a) \n",
    "print()\n",
    "\n",
    "inst.a.append(4)\n",
    "print(inst.a)\n",
    "print(new_inst.a)\n",
    "print()\n",
    "\n",
    "inst.b = 5\n",
    "print(dir(inst))\n",
    "print(dir(new_inst))\n",
    "print(dir(MyClass))\n"
   ]
  },
  {
   "cell_type": "code",
   "execution_count": null,
   "metadata": {
    "colab": {
     "base_uri": "https://localhost:8080/"
    },
    "executionInfo": {
     "elapsed": 883,
     "status": "ok",
     "timestamp": 1609955834683,
     "user": {
      "displayName": "Максим Белов",
      "photoUrl": "",
      "userId": "02014007940964761986"
     },
     "user_tz": -180
    },
    "id": "I8GGmwOTZX24",
    "outputId": "06a9ae30-37f6-4413-9c2d-9ccbae9ed8db"
   },
   "outputs": [
    {
     "name": "stdout",
     "output_type": "stream",
     "text": [
      "2\n"
     ]
    }
   ],
   "source": [
    "# Создание обычных методов. Просто задаем функцию внутри класса, и первым \n",
    "# аргументом ставим ей self, в который будет передан вызвавщий метод инстанс.\n",
    "\n",
    "class MyClass:\n",
    "  def myf(self, a):\n",
    "    return a + 1\n",
    "\n",
    "inst = MyClass()\n",
    "print(inst.myf(1))"
   ]
  },
  {
   "cell_type": "code",
   "execution_count": null,
   "metadata": {
    "colab": {
     "base_uri": "https://localhost:8080/"
    },
    "executionInfo": {
     "elapsed": 904,
     "status": "ok",
     "timestamp": 1609955945137,
     "user": {
      "displayName": "Максим Белов",
      "photoUrl": "",
      "userId": "02014007940964761986"
     },
     "user_tz": -180
    },
    "id": "t9ZCwE1hQnLN",
    "outputId": "a222c883-c68d-4ee4-c112-ccb88aac0da3"
   },
   "outputs": [
    {
     "name": "stdout",
     "output_type": "stream",
     "text": [
      "None None\n",
      "1 2\n"
     ]
    }
   ],
   "source": [
    "# Еще один пример. Метод меняет заданные при инициализации значения.\n",
    "class MyClass:\n",
    "  def __init__(self, base):\n",
    "    self.base = base\n",
    "    \n",
    "  def myf(self, a):\n",
    "    self.base = a\n",
    "\n",
    "inst = MyClass(5)\n",
    "new_inst = MyClass(3)\n",
    "\n",
    "print(inst.myf(1), new_inst.myf(2))\n",
    "print(inst.base, new_inst.base)"
   ]
  },
  {
   "cell_type": "markdown",
   "metadata": {
    "id": "36uDQDUFZgtN"
   },
   "source": [
    "### Типы атрибутов в классе"
   ]
  },
  {
   "cell_type": "code",
   "execution_count": null,
   "metadata": {
    "id": "02QowSHMYVD3"
   },
   "outputs": [],
   "source": [
    "# Создадим различные типы переменных.\n",
    "class MyClass():\n",
    "  # Часто такие переменные используются как константы класса, поэтому \n",
    "  # ее имя в upper case.\n",
    "  CLASS_VAR = []  # Переменная, определенная внутри класса - переменная класса\n",
    "\n",
    "  def func(self, param=None):\n",
    "    local_var = 1  # обычная локальная переменная в методе\n",
    "    self.inst_var = 2  # переменная инстанса. \n",
    "      \n",
    "inst = MyClass()\n",
    "print(MyClass.CLASS_VAR)\n",
    "print(inst.inst_var)\n",
    "print(inst.local_var)  # очевидно, эту переменную мы получить не сможем"
   ]
  },
  {
   "cell_type": "code",
   "execution_count": null,
   "metadata": {
    "id": "OzO5T4jGsarI"
   },
   "outputs": [],
   "source": [
    "class MyClass():\n",
    "  ANY_CLASS_VAR = [0, 0]\n",
    "\n",
    "  def __init__(self):\n",
    "    # Экземпляр вполне может получить значение переменной класса\n",
    "    print(self.ANY_CLASS_VAR)     \n",
    "\n",
    "  def func(self):\n",
    "    # А вот с присвоением у нас возникнут объективные сложности.\n",
    "    # Присвоение создает переменную в пространстве имен экземпляра.\n",
    "    self.ANY_CLASS_VAR = 10 \n",
    "      \n",
    "inst = MyClass()\n",
    "inst.func()\n",
    "print(MyClass.ANY_CLASS_VAR, inst.ANY_CLASS_VAR)"
   ]
  },
  {
   "cell_type": "code",
   "execution_count": null,
   "metadata": {
    "id": "TUJIKa2cMKwO"
   },
   "outputs": [],
   "source": [
    "# Избежать данной проблемы можно например таким образом. \n",
    "# Или использовать методы класса(он них чуть дальше).\n",
    "class MyClass():\n",
    "  ANY_CLASS_VAR = [0, 0]\n",
    "\n",
    "  def func(self):\n",
    "    MyClass.ANY_CLASS_VAR = 10 \n",
    "      \n",
    "inst = MyClass()\n",
    "inst.func()\n",
    "print(MyClass.ANY_CLASS_VAR, inst.ANY_CLASS_VAR)"
   ]
  },
  {
   "cell_type": "code",
   "execution_count": null,
   "metadata": {
    "id": "ukT55LPFuMqR"
   },
   "outputs": [],
   "source": [
    "# Кроме того, переменные класса могут очевидно меняться и извне класса.\n",
    "class MyClass():\n",
    "  ANY_CLASS_VAR = [0, 0]\n",
    "      \n",
    "MyClass.ANY_CLASS_VAR[0] = 1\n",
    "print(MyClass.ANY_CLASS_VAR)\n"
   ]
  },
  {
   "cell_type": "markdown",
   "metadata": {
    "id": "31Jypxf4ZyWm"
   },
   "source": [
    "### Наследование"
   ]
  },
  {
   "cell_type": "code",
   "execution_count": null,
   "metadata": {
    "id": "Dfy4Wf31t28B"
   },
   "outputs": [],
   "source": [
    "# Для того чтобы указать родительские классы, достаточно поместить их в скобки\n",
    "# после имени создаваемого класса.\n",
    "\n",
    "# Такой синтаксис будет обязателен в Python2 при определении new style классов,\n",
    "# а в Python3 object в списке родителей можно опустить.\n",
    "class A(object):\n",
    "  def __init__(self):\n",
    "    print(\"A\")\n",
    "\n",
    "  a = 10  # переменная класса А\n",
    "\n",
    "  def myf(self):\n",
    "    print('myf')\n",
    "\n",
    "class B(A):\n",
    "  def __init__(self):\n",
    "    print(self.a)  # наследник получает доступ ко всем атрибутам родителя\n",
    "    self.myf()  # и его методам\n",
    "\n",
    "\n",
    "b = B()"
   ]
  },
  {
   "cell_type": "code",
   "execution_count": null,
   "metadata": {
    "id": "vcUA3rBUZ0xX"
   },
   "outputs": [],
   "source": [
    "# При множественном наследовании со сложной структурой мы сталкиваемся с\n",
    "# вопросом, атрибут какого родителя нужно использовать. \n",
    "# Данная проблема называется проблемой ромбовидного наследования.\n",
    "class A(object):\n",
    "  var = 'A'\n",
    "\n",
    "class B(A):\n",
    "  pass\n",
    "\n",
    "class C(A):\n",
    "  var = 'D'\n",
    "\n",
    "class MyClass(B, C):\n",
    "  pass\n",
    "\n",
    "inst = MyClass()\n",
    "print(inst.var)\n"
   ]
  },
  {
   "cell_type": "code",
   "execution_count": null,
   "metadata": {
    "id": "sgkhWQXsODIp"
   },
   "outputs": [],
   "source": [
    "# Посмотреть порядок, в котором будут просматриваться родители, можно в\n",
    "# специальном атрибуте __mro__ класса(mthod resolution order).\n",
    "# MRO для класса вычисляется при определении класса, а также пересчитывается\n",
    "# в случае, если у класса в процессе выполнения программы меняются родительские\n",
    "# классы (это очень, очень плохая практика, не стоит так делать без очень веских\n",
    "# оснований).\n",
    "class A(object):\n",
    "  var = 'A'\n",
    "\n",
    "class B(A):\n",
    "  pass\n",
    "\n",
    "class C(A):\n",
    "  var = 'D'\n",
    "\n",
    "class MyClass(B, C):\n",
    "  pass\n",
    "\n",
    "print(MyClass.__mro__)\n"
   ]
  },
  {
   "cell_type": "code",
   "execution_count": null,
   "metadata": {
    "id": "tLkuLttBPK-V"
   },
   "outputs": [],
   "source": [
    "# Функции issubclass и type.\n",
    "class A: \n",
    "  pass\n",
    "class B(A): \n",
    "  pass\n",
    "\n",
    "inst = B()\n",
    "print(type(inst))  # позволяет узнать тип объекта\n",
    "print(issubclass(B, A))  # проверяет, является ли класс подклассом заданного"
   ]
  },
  {
   "cell_type": "markdown",
   "metadata": {
    "id": "sehYVRW2Dm80"
   },
   "source": [
    "### Методы в классах\n"
   ]
  },
  {
   "cell_type": "code",
   "execution_count": null,
   "metadata": {
    "id": "_dOZvbAFT6pt"
   },
   "outputs": [],
   "source": [
    "# Задание статического метода. Может быть вызван как из инстанса так и без\n",
    "# инстанциирования класса.\n",
    "class MyClass:\n",
    "  @staticmethod\n",
    "  def static_method(a=0, *, c=3):\n",
    "    print(\"static\")\n",
    "\n",
    "\n",
    "a = MyClass() \n",
    "a.static_method()\n",
    "MyClass.static_method()"
   ]
  },
  {
   "cell_type": "code",
   "execution_count": null,
   "metadata": {
    "id": "MOpQzhWeDjFV"
   },
   "outputs": [],
   "source": [
    "# Создание классового метода. Вызывается как из инстанса так и через класс.\n",
    "class MyClass:\n",
    "  logging_level = 'debug'\n",
    "  \n",
    "  @classmethod\n",
    "  def class_method(cls, level):\n",
    "    cls.logging_level = level\n",
    "  \n",
    "print(MyClass.logging_level)\n",
    "\n",
    "MyClass.class_method('info')\n",
    "print(MyClass.logging_level)\n",
    "\n",
    "a = MyClass()\n",
    "a.class_method('warning')\n",
    "print(MyClass.logging_level)"
   ]
  },
  {
   "cell_type": "code",
   "execution_count": null,
   "metadata": {
    "id": "QaCJjDKmApG6"
   },
   "outputs": [],
   "source": [
    "# Наследование класса от ABC еще не делает его абстрактным. Мы можем создать его\n",
    "# экземпляр.\n",
    "from abc import ABC\n",
    "\n",
    "class MyABC(ABC):\n",
    "    a = 10\n",
    "inst = MyABC()\n",
    "print(inst.a)"
   ]
  },
  {
   "cell_type": "code",
   "execution_count": null,
   "metadata": {
    "id": "AV9aU1lJA4dW"
   },
   "outputs": [],
   "source": [
    "# И обычные методы, заданные в классе не делают его абстрактным.\n",
    "from abc import ABC\n",
    "\n",
    "class MyABC(ABC):\n",
    "    a = 10\n",
    "    \n",
    "    def func(self): \n",
    "      return MyABC.a\n",
    "\n",
    "inst = MyABC()\n",
    "print(inst.a)\n",
    "print(inst.func())"
   ]
  },
  {
   "cell_type": "code",
   "execution_count": null,
   "metadata": {
    "id": "nEo3OaGaBRX5"
   },
   "outputs": [],
   "source": [
    "# Здесь мы добавили абстрактный метод. Мы не можем инстанциировать класс.\n",
    "from abc import ABC, abstractmethod\n",
    "\n",
    "class MyABC(ABC):\n",
    "    a = 10\n",
    "\n",
    "    @abstractmethod\n",
    "    def func(self, arg=10):\n",
    "        arg *=10\n",
    "        print(\"abstract\")\n",
    "\n",
    "inst = MyABC()\n",
    "\n"
   ]
  },
  {
   "cell_type": "code",
   "execution_count": null,
   "metadata": {
    "id": "hgP88NBoBlT3"
   },
   "outputs": [],
   "source": [
    "# Мы не можем просто создать наследника абстрактного класса, мы обязаны\n",
    "# создать реализацию абстрактных методов.\n",
    "from abc import ABC, abstractmethod\n",
    "\n",
    "class MyABC(ABC):\n",
    "    a = 10\n",
    "\n",
    "    @abstractmethod\n",
    "    def func(self):\n",
    "        print(\"abstract\")\n",
    "\n",
    "class NewClass(MyABC):\n",
    "  pass\n",
    "\n",
    "inst = NewClass()\n",
    "print(inst.a)"
   ]
  },
  {
   "cell_type": "code",
   "execution_count": null,
   "metadata": {
    "id": "FtzeUTU9BxZ3"
   },
   "outputs": [],
   "source": [
    "# Так все работает.\n",
    "from abc import ABC, abstractmethod\n",
    "\n",
    "class MyABC(ABC):\n",
    "    a = 10\n",
    "\n",
    "    @abstractmethod\n",
    "    def func(self): pass\n",
    "\n",
    "class NewClass(MyABC):\n",
    "  def func(self):\n",
    "    print(\"newclass\")\n",
    "\n",
    "inst = NewClass()\n",
    "print(inst.func())"
   ]
  },
  {
   "cell_type": "markdown",
   "metadata": {
    "id": "d_ckCus1Clij"
   },
   "source": [
    "### super\n",
    "Часто мы хотим переиспользовать код родительских классов, а не использовать их без изменений. В этом нам поможет функция `super`.\n",
    "\n",
    "`super(type, obj_to_find)` - принимает два аргумента. Тип объекта, по MRO которого будем мы будем проходить, второй - объект, тип которого мы будем искать в этой последовательности. Возвращает прокси-объект типа, следующего за искомым."
   ]
  },
  {
   "cell_type": "code",
   "execution_count": null,
   "metadata": {
    "id": "7uGXUh7Sjve4"
   },
   "outputs": [],
   "source": [
    "# Часто в obj_to_find передается self, тогда у нас будет возвращен первый\n",
    "# родитель нашего класса (В MRO находится типа объекта = сам класс, и \n",
    "# возвращается следующий).\n",
    "class A(object):\n",
    "  def __init__(self): \n",
    "    print('a')\n",
    "\n",
    "class C(A):\n",
    "  def __init__(self): \n",
    "    print('c')\n",
    "\n",
    "class D(C):\n",
    "  def __init__(self):\n",
    "    super(D, self).__init__()\n",
    "    print('d')\n",
    "\n",
    "d = D()\n"
   ]
  },
  {
   "cell_type": "code",
   "execution_count": null,
   "metadata": {
    "id": "7roGvnWok3p-"
   },
   "outputs": [],
   "source": [
    "# Часто реализуют целые цепочки вызовов через супер, каждый новый класс просто\n",
    "# уточняет функционал предыдущего.\n",
    "class A(object):\n",
    "  def __init__(self):\n",
    "    print('a')\n",
    "\n",
    "class C(A):\n",
    "  def __init__(self):\n",
    "    super(C, self).__init__()\n",
    "    print('с')\n",
    "\n",
    "class D(C):\n",
    "  def __init__(self):\n",
    "    super(D, self).__init__()\n",
    "    print('d')\n",
    "\n",
    "d = D()\n"
   ]
  },
  {
   "cell_type": "code",
   "execution_count": null,
   "metadata": {
    "id": "eX7y_hVSCFYs"
   },
   "outputs": [],
   "source": [
    "# Super будет также прекрасно работать с абстрактными классами.\n",
    "from abc import ABC, abstractmethod\n",
    "\n",
    "class MyABC(ABC):\n",
    "  @abstractmethod\n",
    "  def func(self):\n",
    "    print(\"abstract\")\n",
    "\n",
    "class NewClass(MyABC):\n",
    "  def func(self): \n",
    "    super(NewClass, self).func()\n",
    "\n",
    "    \n",
    "inst = NewClass()\n",
    "inst.func()"
   ]
  },
  {
   "cell_type": "markdown",
   "metadata": {
    "id": "9Nsg4lsQEMh7"
   },
   "source": [
    "### Работа с атрибутами класса\n",
    "\n",
    "У нас есть несколько функций, которые позволяют работать с атрибутами класса:\n",
    "\n",
    "- `getattr(obj, name[, default])` - получает атрибут с именем `name` объекта `obj`, в случае его отсутствия - возвращает `default`.\n",
    "\n",
    "- `setattr(obj, name, value)` - присваивает атрибуту с именем `name` объекта `obj` значение `value`.\n",
    "\n",
    "- `delattr(obj, name)` - удаляет атрибут с именем `name` объекта `obj`.\n",
    "\n",
    "- `hasattr(obj, name)` - проверяет, есть ли у объекта `obj` атрибут с именем `name`."
   ]
  },
  {
   "cell_type": "code",
   "execution_count": null,
   "metadata": {
    "colab": {
     "base_uri": "https://localhost:8080/"
    },
    "executionInfo": {
     "elapsed": 870,
     "status": "ok",
     "timestamp": 1609956306245,
     "user": {
      "displayName": "Максим Белов",
      "photoUrl": "",
      "userId": "02014007940964761986"
     },
     "user_tz": -180
    },
    "id": "_cc52MsvWtnT",
    "outputId": "7959af9d-182c-425f-e495-cfc04937646e"
   },
   "outputs": [
    {
     "name": "stdout",
     "output_type": "stream",
     "text": [
      "None\n",
      "new_value\n"
     ]
    }
   ],
   "source": [
    "# Получаем и устанавливаем значение атрибута.\n",
    "class A():\n",
    "  a = None\n",
    "\n",
    "attr = getattr(A, 'a')\n",
    "print(attr)\n",
    "setattr(A, 'a', 'new_value')\n",
    "print(A.a)\n"
   ]
  },
  {
   "cell_type": "code",
   "execution_count": null,
   "metadata": {
    "id": "RiPIk1vWbZVb"
   },
   "outputs": [],
   "source": [
    "# Удобство методов заключается в том, что мы можем не иметь переменные,\n",
    "# соответствующие нужным атрибутам. А здесь нам достаточно имен.\n",
    "\n",
    "class A():\n",
    "  a = None\n",
    "  \n",
    "print(dir(A))\n",
    "\n",
    "clear_attrs = ['a', 'b', 'c']\n",
    "for attr in clear_attrs:\n",
    "  if hasattr(A, attr):\n",
    "    delattr(A, attr)"
   ]
  },
  {
   "cell_type": "markdown",
   "metadata": {
    "id": "V8GKzlnQEW4x"
   },
   "source": [
    "### Сокрытие переменных"
   ]
  },
  {
   "cell_type": "code",
   "execution_count": null,
   "metadata": {
    "id": "DGOQnVMEd1Mw"
   },
   "outputs": [],
   "source": [
    "# Зададим скрытый атрибут. Его могут использовать как класс так и его наследники.\n",
    "class MyClass:\n",
    "  _hidden_var = \"hidden\"\n",
    "  def func(self):\n",
    "    print(self._hidden_var)\n",
    "\n",
    "class NewClass(MyClass):\n",
    "  def func(self):\n",
    "    print(self._hidden_var)\n",
    "\n",
    "inst = MyClass()\n",
    "inst.func()\n",
    "\n",
    "new_inst = NewClass()\n",
    "NewClass().func()"
   ]
  },
  {
   "cell_type": "code",
   "execution_count": null,
   "metadata": {
    "id": "ubbQC6Qt5qW6"
   },
   "outputs": [],
   "source": [
    "# One more example.\n",
    "import random\n",
    "import time\n",
    "\n",
    "class WithHidden:\n",
    "  def __init__(self, seed):\n",
    "    self.seed = seed\n",
    "\n",
    "  @staticmethod\n",
    "  def _myhidden(seed, num):\n",
    "    # my hidden stuff\n",
    "    random.seed(seed)\n",
    "    print('new seed')\n",
    "  \n",
    "  def randomize(self):\n",
    "    return(self._myhidden(self.seed, time.time()))\n",
    "\n",
    "a = WithHidden(123456)\n",
    "a.randomize()\n",
    "  \n",
    "  "
   ]
  },
  {
   "cell_type": "code",
   "execution_count": null,
   "metadata": {
    "id": "5eB9t9V_EWf5"
   },
   "outputs": [],
   "source": [
    "# Атрибуты, эмулирующие private начинаются с __.\n",
    "# Они могут использоваться с заданным именем только в классе где заданы.\n",
    "# Во всех остальных местах используется mangled имя _Class__attribute.\n",
    "class MyClass:\n",
    "  __mangled_var = \"mangled\"\n",
    "  def func(self):\n",
    "    print(self.__mangled_var)\n",
    "\n",
    "class NewClass(MyClass):\n",
    "  def func(self):\n",
    "    print(self._MyClass__mangled_var)\n",
    "\n",
    "inst = MyClass()\n",
    "inst.func()\n",
    "\n",
    "new_inst = NewClass()\n",
    "NewClass().func()"
   ]
  },
  {
   "cell_type": "markdown",
   "metadata": {
    "id": "1HZcW2QV3YeV"
   },
   "source": [
    "## Задача для закрепления на занятии\n",
    "\n",
    "Создайте класс, в котором у экземпляра есть переменная с именем b.\n",
    "Создайте 2 экземпляра класса. Присвойте переменной экземпляров разные значения(списки) и выведите на экран."
   ]
  },
  {
   "cell_type": "markdown",
   "metadata": {
    "id": "ckT75kCWKHMb"
   },
   "source": [
    "## Задача для домашней работы\n",
    "\n",
    "Создайте  модель из жизни. Это может быть бронирование комнаты в отеле, покупка билета в транспортной компании, или простая РПГ. Создайте несколько объектов классов, которые описывают ситуацию Объекты должны содержать как атрибуты так и методы класса для симуляции различных действий. Программа должна инстанцировать объекты и эмулировать какую-либо ситуацию - вызывать методы, взаимодействие объектов и т.д."
   ]
  },
  {
   "cell_type": "markdown",
   "metadata": {
    "id": "EDXca7P9-o97"
   },
   "source": [
    "# Magic methods"
   ]
  },
  {
   "cell_type": "markdown",
   "metadata": {
    "id": "RWHnq5RVLsP7"
   },
   "source": [
    "### Теоретическая часть\n",
    "\n",
    "Магические методы в Python, который является объектно-ориентированным языком, являются одной из важнейших концепций. \n",
    "\n",
    "Это специальные методы, которые будут вызываться неявно в тех или иных ситуациях. Они всегда начинаются и заканчиваются символом двойного подчеркивания `__`.\n",
    "\n",
    "Рассмотрим несколько категорий магических методов: \n",
    "\n",
    "- Методы, реализующие жизненный цикл объекта. (`__init__`, `__del__`, `__new__`).\n",
    "- Методы, реализующие сравнение объектовю. (`__cmp__`, `__eq__`, `__ne__`, `__lt__` и др.).\n",
    "- Методы, реализующие стандартные операторы языка, например `+`, `-` и т.д. Они работают не только для чисел, а для абсолютно любых объектов. (`__add__`, `__div__`, `__pow__` и др.).\n",
    "- Методы, реализующие составные присваивания, например `+=`, `-=`. (`__iadd__`, `__imul__`, `__idiv__` и др.).\n",
    "- Методы, неявно вызывающиеся при передачи объекта во встроенные функции. (`__sizeof__`, `__dir__`, `__hash__` и др.).\n",
    "- Методы, осуществляющие контроль доступа к атрибутам класса. (`__getattr__`, `__setattr__`, `__delattr__`, `__getattribute__`).\n",
    "- Методы, реализующие определенные типы объектов: контекстный менеджер, итерируемый объект.\n",
    "\n",
    "Это далеко не полный перечень существующих магических методов. \n",
    "Вообще, описание магических методов достаточно сильно разбросано по документации. Неплохая попытка их систематизировать находится здесь(исходники): https://github.com/RafeKettler/magicmethods. А собранное в файл это творение можно найти здесь:  \n",
    "https://rszalski.github.io/magicmethods/.\n"
   ]
  },
  {
   "cell_type": "markdown",
   "metadata": {
    "id": "A2Rt461AWUxX"
   },
   "source": [
    "#### Реализация контекстного менеджера\n",
    "\n",
    "Для реализации контекстного менеджера(создания класса, который может работать как контекстный менеджер), необходима реализация двух magic методов:\n",
    "- `__enter__` - выполняется при входе в контекстный менеджер. Объект, возвращенный из метода `__enter__` будет присвоен переменной, стоящей после `as` в блоке `with`.\n",
    "- `__exit__` - выполняется при выходе из контекстного менеджера. Выполняться он будет в любом случае, если выход произошел из-за исключения, тип, значение и traceback соответствующего исключения будут переданы в соответствующие переменные.\n",
    "\n",
    "```python\n",
    "class CM:\n",
    "    def __enter__(self):\n",
    "      pass\n",
    "    \n",
    "    def __exit__(self, exc_type, exc_val, exc_tb):\n",
    "      pass\n",
    "```\n",
    "\n",
    "Кроме того, возможна реализация контекстного менеджера с помощью `contextlib`, которая с помощью декоратора `contextmanager` может создать контекстный менеджер из функции-генератора. "
   ]
  },
  {
   "cell_type": "markdown",
   "metadata": {
    "id": "YE3zJ1KZTfOZ"
   },
   "source": [
    "#### Реализация итерируемых объектов и итератора\n",
    "\n",
    "Реализация протокола итерирования в Python имеет некоторые отличия от паттерна, описанного в банде четырех. \n",
    "\n",
    "Протокол итерирования подразумевает наличие двух объектов: итерируемого объекта и итератора. \n",
    "\n",
    "**Итерируемый объект** - объект, который содержит коллекцию, по которой мы будем итерироваться. \n",
    "\n",
    "Для реализации итерируемого объекта необходимо реализовать magic метод: \n",
    "- `__iter__` - этот метод должен возвращать объект итератора. \n",
    "\n",
    "**Итератор** - объект, который осуществляет обход коллекции итерируемого объекта. Для реалзиации итератора в Python необходимо реализовать следующие методы: \n",
    "- `__next__` - метод, задача которого вернуть следующий объект из коллекции, а в случае если обход завершен, возбудить исключение `StopIteration`. \n",
    "- `__iter__` - метод, который является отличным от классической реализации итератора. Необходимо, чтобы он возвращал сам себя, т.е. `self`. Тем не менее в большинстве реализаций Python он является не обязательным, и почти все будет работать без него. \n",
    "\n",
    "Обоснование существования метода `__iter__` непосредственно в итераторе обусловлено требованием, чтобы итератор можно было передать в цикл `for` или использовать с оператором `in`. Т.е. мы сначала создаем итератор через метод `iter`, возможно даже ходим по нему, а потом передаем в `for`. Насколько это критичный функционал, судить Вам. \n",
    "\n",
    "Подробнее про протокол итерирования в Python: \n",
    "- https://www.python.org/dev/peps/pep-0234/ - PEP.\n",
    "- https://docs.python.org/dev/library/stdtypes.html#iterator-types - официальная документация Python.\n"
   ]
  },
  {
   "cell_type": "markdown",
   "metadata": {
    "id": "Pn2gekJ_Lyl6"
   },
   "source": [
    "### Code Snippets"
   ]
  },
  {
   "cell_type": "markdown",
   "metadata": {
    "id": "psc-tTpuuIxY"
   },
   "source": [
    "#### Базовые примеры использования Magic методов"
   ]
  },
  {
   "cell_type": "code",
   "execution_count": null,
   "metadata": {
    "id": "J9KD7NUh_6dw"
   },
   "outputs": [],
   "source": [
    "# Давайте посмотрим что есть внутри самого обычного типа данных. \n",
    "dir(int)"
   ]
  },
  {
   "cell_type": "code",
   "execution_count": null,
   "metadata": {
    "id": "2_GyXipqJdJF"
   },
   "outputs": [],
   "source": [
    "# Самый простой пример реализации magic метода. \n",
    "# Пускай наш класс нормально работает с командой принт.\n",
    "\n",
    "class MyClass: \n",
    "  def __repr__(self):\n",
    "    return \"MyClass()\"\n",
    "  \n",
    "  def __str__(self):\n",
    "    return \"MyClass example object.\"\n",
    "\n",
    "inst = MyClass()\n",
    "print(inst)  # как видно, при работе print просто вызывается функция str\n",
    "print(str(inst))\n",
    "print(repr(inst))\n",
    "\n",
    "\n"
   ]
  },
  {
   "cell_type": "markdown",
   "metadata": {
    "id": "2Gwqku_VinWi"
   },
   "source": [
    "Фактически, str и repr оба преобразуют объект в строку. \n",
    "\n",
    "На уровне джентльменского соглашения, считается, что str используется для человеко-читаемого представления объекта, а repr - для представления объекта, который может воссоздать сам объект. "
   ]
  },
  {
   "cell_type": "code",
   "execution_count": null,
   "metadata": {
    "id": "gY2clS_RiiuE"
   },
   "outputs": [],
   "source": [
    "# Тем не менее, если мы реализуем класс только с __repr__, этот метод будет\n",
    "# использоваться во всех случаях.\n",
    "\n",
    "class MyClass: \n",
    "  def __repr__(self):\n",
    "    return \"MyClass()\"\n",
    "\n",
    "inst = MyClass()\n",
    "print(inst)\n",
    "print(str(inst))\n",
    "print(repr(inst))"
   ]
  },
  {
   "cell_type": "code",
   "execution_count": null,
   "metadata": {
    "id": "T1jP9XWfb6LL"
   },
   "outputs": [],
   "source": [
    "# Класс, который хранит определенное значение и может прибавлять к нему любой\n",
    "# объект с помощью оператора +=. Объекты преобразуются в строки, поэтому\n",
    "# добавить мы можем что угодно\n",
    "class A:\n",
    "  def __init__(self, value):\n",
    "    self._value = str(value)\n",
    "    \n",
    "  def __iadd__(self, other):\n",
    "    self._value += str(other)\n",
    "    # Так как iadd это +=, то после сложения происходит присвоение объекта. \n",
    "    # В нашем случае мы храним значение внутри объекта, и можем вернуть self. \n",
    "    return self  \n",
    "  \n",
    "  def __str__(self):\n",
    "    return self._value\n",
    "\n",
    "inst = A(\"mystr\")\n",
    "inst += 10000\n",
    "print(inst)\n",
    "\n",
    "def f():\n",
    "  pass\n",
    "\n",
    "inst += f\n",
    "print('После добавления функции:', inst)"
   ]
  },
  {
   "cell_type": "code",
   "execution_count": null,
   "metadata": {
    "id": "rTsX0CSUky8L"
   },
   "outputs": [],
   "source": [
    "# Тем не менее складывать такие объекты обычным сложением мы не сможем.\n",
    "class A:\n",
    "  def __init__(self, value):\n",
    "    self._value = str(value)\n",
    "    \n",
    "  def __iadd__(self, other):\n",
    "    self._value += str(other)\n",
    "    # Так как iadd это +=, то после сложения происходит присвоение объекта. \n",
    "    # В нашем случае мы храним значение внутри объекта, и можем вернуть self. \n",
    "    return self  \n",
    "  \n",
    "  def __str__(self):\n",
    "    return self._value\n",
    "\n",
    "my_sum = A('1') + A('2')"
   ]
  },
  {
   "cell_type": "code",
   "execution_count": null,
   "metadata": {
    "id": "7vbEjK-b-oDk"
   },
   "outputs": [],
   "source": [
    "# Добавим поддержку сложения.\n",
    "class A:\n",
    "  def __init__(self, value):\n",
    "    self.value = str(value)\n",
    "\n",
    "  def __add__(self, other):\n",
    "    self.value += str(other)\n",
    "    return self\n",
    "  \n",
    "  def __iadd__(self, other):\n",
    "    self.value += str(other)\n",
    "    return self\n",
    "\n",
    "  def __str__(self):\n",
    "    return self.value\n",
    "\n",
    "inst = A(\"mystr\")\n",
    "inst = inst + '_new_str'\n",
    "print(inst, type(inst))\n"
   ]
  },
  {
   "cell_type": "code",
   "execution_count": null,
   "metadata": {
    "id": "EaQT3JnAmK-C"
   },
   "outputs": [],
   "source": [
    "# Нюанс прошлого примера - для работы, наш класс должен стоять левым операндом\n",
    "# при сложении. Сейчас сделаем класс который может стоять только справа.\n",
    "class A:\n",
    "  def __init__(self, value):\n",
    "    self.value = str(value)\n",
    "\n",
    "  def __radd__(self, other):\n",
    "    self.value += str(other)\n",
    "    return self\n",
    "  \n",
    "  def __iadd__(self, other):\n",
    "    self.value += str(other)\n",
    "    return self\n",
    "\n",
    "  def __str__(self):\n",
    "    return self.value\n",
    "\n",
    "inst = A(\"mystr\")\n",
    "inst = '_new_str' + inst\n",
    "print(inst, type(inst))"
   ]
  },
  {
   "cell_type": "code",
   "execution_count": null,
   "metadata": {
    "id": "rsFxW5qTEWnk"
   },
   "outputs": [],
   "source": [
    "# Мы можем точно также переопределять поведение стандартных объектов.\n",
    "# Здесь мы создадим наследника int, с весьма специфическим умножением.\n",
    "class MyInt(int): \n",
    "  def __mul__(self, other):\n",
    "    return MyInt(int(self)*2)\n",
    "\n",
    "a = MyInt(5)\n",
    "print(a, type(a))\n",
    "print(a*6, type(a*6))"
   ]
  },
  {
   "cell_type": "markdown",
   "metadata": {
    "id": "6SnZrG4yAlqN"
   },
   "source": [
    "#### Контекстный менеджер\n"
   ]
  },
  {
   "cell_type": "code",
   "execution_count": null,
   "metadata": {
    "id": "BSoAqHL1pkjY"
   },
   "outputs": [],
   "source": [
    "# Реализация простейшего контекстного менеджера.\n",
    "class CM():\n",
    "  def __init__(self):\n",
    "    print('init')\n",
    "\n",
    "  def __enter__(self):\n",
    "    print('in cm')\n",
    "    return 'cm_instance'\n",
    "  \n",
    "  # не будем обрабатывать исключения, поэтому просто свернем параметры в exit\n",
    "  def __exit__(self, *args):  \n",
    "    print(args)\n",
    "\n",
    "with CM() as obj:\n",
    "  print('obj:', obj)\n",
    "  print('inside cm')"
   ]
  },
  {
   "cell_type": "code",
   "execution_count": null,
   "metadata": {
    "id": "nb5qfydyotmJ"
   },
   "outputs": [],
   "source": [
    "# Реализация простейшего контекстного менеджера.\n",
    "class CM():\n",
    "  def __init__(self):\n",
    "    print('init')\n",
    "\n",
    "  def __enter__(self):\n",
    "    print('in cm')\n",
    "    return 'cm_instance'\n",
    "  \n",
    "  # не будем обрабатывать исключения, поэтому просто свернем параметры в exit\n",
    "  def __exit__(self, *args):  \n",
    "    print(args)\n",
    "\n",
    "with CM() as obj:\n",
    "  raise Exception  # обратите внимание что блок exit выполнился"
   ]
  },
  {
   "cell_type": "markdown",
   "metadata": {
    "id": "z2_pOmGpA3op"
   },
   "source": [
    "#### Протокол итерирования\n",
    "\n"
   ]
  },
  {
   "cell_type": "code",
   "execution_count": null,
   "metadata": {
    "id": "b_U2z6dw_xZ1"
   },
   "outputs": [],
   "source": [
    "class Iterable:\n",
    "  def __init__(self, collection=None):\n",
    "    if collection is None:\n",
    "      self._collection = [1, 2, 3, 4]\n",
    "    else:\n",
    "      self._collection = collection\n",
    "  \n",
    "  def __iter__(self):\n",
    "    return Iterator(self._collection)\n",
    "\n",
    "class Iterator:\n",
    "\n",
    "  def __init__(self, collection):\n",
    "    print('init')\n",
    "    self.collection = collection[::2]\n",
    "    self.cursor = 0\n",
    "  def __iter__(self):\n",
    "    return self\n",
    "  \n",
    "  def __next__(self):  # Здесь очень хочется сделать генератор, но так нельзя\n",
    "    if self.cursor >= len(self.collection):\n",
    "      raise StopIteration\n",
    "    element = self.collection[self.cursor]\n",
    "    self.cursor +=1\n",
    "    return element\n",
    "\n",
    "for element in Iterable():\n",
    "  print(element)\n"
   ]
  },
  {
   "cell_type": "markdown",
   "metadata": {
    "id": "33reJbL5v3OZ"
   },
   "source": [
    "# Композиция. Агрегация"
   ]
  },
  {
   "cell_type": "markdown",
   "metadata": {
    "id": "V21n7VXbwEmO"
   },
   "source": [
    "## Теоретическая часть\n",
    "\n",
    "Кроме уже известного нам наследования, существуют также и другие способы организации классов в нашей программе. \n",
    "\n",
    "Однако, классы могут быть организованы так, что просто будут использовать функционал других классов. Такие отношения называются композицией и агрегацией. \n",
    "\n",
    "### Агрегация\n",
    "Агрегация - отношение, которое подразумевает что один класс может использовать функционал другого. Например: \n",
    "```python\n",
    "class Student:\n",
    "  pass\n",
    "\n",
    "class Teacher:\n",
    "  pass\n",
    "\n",
    "class Group:\n",
    "  def __init__(self, teacher, *students):\n",
    "    self.teacher = teacher\n",
    "    self.students = list(students)\n",
    "\n",
    "Group(Teacher(), *(Student() for _ in range(15)))\n",
    "```\n",
    "\n",
    "В данном случае, учебная группа подразумевает наличие в ней учителя и студента, однако смысла включать их функционал как акторов образовательного процесса нет, и они просто храняться внутри группы как объекты сооответствующих классов. \n",
    "\n",
    "### Композиция\n",
    "Композиция подразумевает похожее отношение, однако объекты, которые включаются в класс, не могут существовать отдельно от него. например: \n",
    "```python\n",
    "class _Tail:\n",
    "  pass\n",
    "\n",
    "class _Head:\n",
    "  pass\n",
    "\n",
    "class Tadpole:\n",
    "  def __init__:\n",
    "    self.tail = _Tail()\n",
    "    self.head = _Head()\n",
    "```\n",
    "\n",
    "Голова и хвост головастика существовать отдельно не могут, поэтому они определены как скрытые классы и используются только внутри сущности головастика. \n",
    "\n",
    "Кроме того, в Python, определения этих классов можно включить в определение класса головастика с `_`, что с большей вероятностью исключит использование хвоста головастика у каких-то других животных, при этом в наследниках головастика(различных видов лягушек), мы сможем переиспользовать и даже уточнять поведение хвоста через наследование. \n"
   ]
  }
 ],
 "metadata": {
  "colab": {
   "collapsed_sections": [],
   "name": "10._Введение в ООП.ipynb",
   "provenance": []
  },
  "kernelspec": {
   "display_name": "Python 3 (ipykernel)",
   "language": "python",
   "name": "python3"
  },
  "language_info": {
   "codemirror_mode": {
    "name": "ipython",
    "version": 3
   },
   "file_extension": ".py",
   "mimetype": "text/x-python",
   "name": "python",
   "nbconvert_exporter": "python",
   "pygments_lexer": "ipython3",
   "version": "3.11.0"
  }
 },
 "nbformat": 4,
 "nbformat_minor": 1
}
